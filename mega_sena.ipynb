{
 "cells": [
  {
   "cell_type": "markdown",
   "metadata": {},
   "source": [
    "# Mega-Sena\n",
    "\n",
    "- **Aluno**: Álvaro Ferreira Pires de Paiva\n",
    "- **Matrícula**: 2016039162\n",
    "\n",
    "**Sumário**\n",
    "- [Base de dados](#database)\n",
    "- [Preparando o ambiente](#env_treatment)\n",
    "  - Prêmio máximo\n",
    "  - Rótulo"
   ]
  },
  {
   "cell_type": "markdown",
   "metadata": {},
   "source": [
    "## <a id=\"database\">Base de dados</a>\n",
    "\n",
    "Nessa avaliação será utilizado a base de dados referente aos concursos da Mega-Sena. \n",
    "\n",
    "A **Mega-Sena** tem sido a maior modalidade lotérica do Brasil, sendo uma entre as dez modalidades atuais das loterias da Caixa (Caixa Econômica Federal), com sorteios ordinários duas vezes por semana, além da Mega-Sena da Virada.\n",
    "\n",
    "Para ganhar o **prêmio máximo da Mega-Sena** — **a sena** — , é necessário acertar a sena, o que significa obter coincidência entre **seis dos números** apostados e os seis números sorteados, de um total de sessenta unidades (**de 01 a 60**), independentemente da ordem da aposta ou da ordem do sorteio. \n",
    "\n",
    "O concurso prevê também a chance de se ganhar parte do prêmio máximo, pelo acerto da **quina** (apenas cinco dos números sorteados), ou da **quadra** (apenas quatro dos números sorteados), com prêmios significativamente menores que aquele que seria pago na ocorrência do acerto da sena, o da quina maior que o da quadra. \n",
    "\n",
    "A base de dados está em formato de planilha em excel."
   ]
  },
  {
   "cell_type": "markdown",
   "metadata": {},
   "source": [
    "## <a id=\"env_treatment\">Preparando o ambiente</a>\n",
    "Aqui iremos realizar as importações de bibliotecas necessárias e o armazenamento dos dados para podermos analisarmos logo em seguida."
   ]
  },
  {
   "cell_type": "code",
   "execution_count": 2,
   "metadata": {},
   "outputs": [],
   "source": [
    "# Imports\n",
    "import pandas as pd"
   ]
  },
  {
   "cell_type": "code",
   "execution_count": 3,
   "metadata": {},
   "outputs": [],
   "source": [
    "# Leitura dos dados\n",
    "excel_file = 'basedados.xlsx'\n",
    "excel = pd.ExcelFile(excel_file)\n",
    "data = excel.parse(0)"
   ]
  },
  {
   "cell_type": "markdown",
   "metadata": {},
   "source": [
    "### Prêmio máximo\n",
    "Para cada concurso da Mega-Sena, a maior premiação está relacionada com o acerto das 6 dezenas, e o seu valor é dada pela seguinte relação:\n",
    "\n",
    "$$Prêmio = Ganhadores\\_Sena\t\\times Rateio\\_Sena$$"
   ]
  },
  {
   "cell_type": "code",
   "execution_count": 6,
   "metadata": {},
   "outputs": [],
   "source": [
    "data['premio_maximo'] = data.Ganhadores_Sena * data.Rateio_Sena"
   ]
  },
  {
   "cell_type": "markdown",
   "metadata": {},
   "source": [
    "### Rótulo\n",
    "Criaremos uma nova coluna chamada \"Rótulo\" baseada na faixa de valores da coluna \"prêmio_máximo\", como apresentado na seguinte tabela:\n",
    "\n",
    "| Intervalo [Milhões de Reais] | Rótulo |\n",
    "|------------------------------|--------|\n",
    "| 0 - 1                        | I      |\n",
    "| 1 - 5                        | II     |\n",
    "| 5 - 10                       | III    |\n",
    "| 10 - 20                      | IV     |\n",
    "| 20 - 40                      | V      |\n",
    "| 40 - 80                      | VI     |\n",
    "| 80 - 100                     | VII    |\n",
    "| 100 - 200                    | VIII   |\n",
    "| 200 - 300                    | IX     |\n",
    "| 300 -                        | X      |"
   ]
  },
  {
   "cell_type": "code",
   "execution_count": 9,
   "metadata": {},
   "outputs": [],
   "source": [
    "data['rotulo'] = pd.cut(data.premio_maximo,\n",
    "                        bins=[0,1e6,5e6,1e7,2e7,4e7,8e7,1e8,2e8,3e8,1e9],\n",
    "                        labels=[\"I\",\"II\",\"III\",\"IV\",\"V\",\"VI\",\"VII\",\"VIII\",\"IX\",\"X\"],\n",
    "                        include_lowest=True)"
   ]
  },
  {
   "cell_type": "code",
   "execution_count": null,
   "metadata": {},
   "outputs": [],
   "source": []
  }
 ],
 "metadata": {
  "kernelspec": {
   "display_name": "Python 3",
   "language": "python",
   "name": "python3"
  },
  "language_info": {
   "codemirror_mode": {
    "name": "ipython",
    "version": 3
   },
   "file_extension": ".py",
   "mimetype": "text/x-python",
   "name": "python",
   "nbconvert_exporter": "python",
   "pygments_lexer": "ipython3",
   "version": "3.6.5"
  }
 },
 "nbformat": 4,
 "nbformat_minor": 2
}
