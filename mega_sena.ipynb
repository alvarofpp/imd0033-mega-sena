{
 "cells": [
  {
   "cell_type": "markdown",
   "metadata": {},
   "source": [
    "# Mega-Sena\n",
    "\n",
    "- **Aluno**: Álvaro Ferreira Pires de Paiva\n",
    "- **Matrícula**: 2016039162\n",
    "\n",
    "**Sumário**\n",
    "- [Base de dados](#database)\n",
    "- [Preparando o ambiente](#env_treatment)\n",
    "  - Prêmio máximo\n",
    "  - Rótulo\n",
    "- [Análises](#analysis)\n",
    "  - Dicas"
   ]
  },
  {
   "cell_type": "markdown",
   "metadata": {},
   "source": [
    "## <a id=\"database\">Base de dados</a>\n",
    "\n",
    "Nessa avaliação será utilizado a base de dados referente aos concursos da Mega-Sena. \n",
    "\n",
    "A **Mega-Sena** tem sido a maior modalidade lotérica do Brasil, sendo uma entre as dez modalidades atuais das loterias da Caixa (Caixa Econômica Federal), com sorteios ordinários duas vezes por semana, além da Mega-Sena da Virada.\n",
    "\n",
    "Para ganhar o **prêmio máximo da Mega-Sena** — **a sena** — , é necessário acertar a sena, o que significa obter coincidência entre **seis dos números** apostados e os seis números sorteados, de um total de sessenta dezenas (**de 01 a 60**), independentemente da ordem da aposta ou da ordem do sorteio. \n",
    "\n",
    "O concurso prevê também a chance de se ganhar parte do prêmio máximo, pelo acerto da **quina** (apenas cinco dos números sorteados), ou da **quadra** (apenas quatro dos números sorteados), com prêmios significativamente menores que aquele que seria pago na ocorrência do acerto da sena, o da quina maior que o da quadra. \n",
    "\n",
    "A base de dados está em formato de planilha em excel."
   ]
  },
  {
   "cell_type": "markdown",
   "metadata": {},
   "source": [
    "## <a id=\"env_treatment\">Preparando o ambiente</a>\n",
    "Aqui iremos realizar as importações de bibliotecas necessárias e o armazenamento dos dados para podermos analisarmos logo em seguida."
   ]
  },
  {
   "cell_type": "code",
   "execution_count": 1,
   "metadata": {},
   "outputs": [],
   "source": [
    "# Imports\n",
    "import pandas as pd"
   ]
  },
  {
   "cell_type": "code",
   "execution_count": 2,
   "metadata": {},
   "outputs": [],
   "source": [
    "# Leitura dos dados\n",
    "excel_file = 'basedados.xlsx'\n",
    "excel = pd.ExcelFile(excel_file)\n",
    "data = excel.parse(0)"
   ]
  },
  {
   "cell_type": "markdown",
   "metadata": {},
   "source": [
    "### Prêmio máximo\n",
    "Para cada concurso da Mega-Sena, a maior premiação está relacionada com o acerto das 6 dezenas, e o seu valor é dada pela seguinte relação:\n",
    "\n",
    "$$Prêmio = Ganhadores\\_Sena\t\\times Rateio\\_Sena$$"
   ]
  },
  {
   "cell_type": "code",
   "execution_count": 3,
   "metadata": {},
   "outputs": [],
   "source": [
    "data['premio_maximo'] = data.Ganhadores_Sena * data.Rateio_Sena"
   ]
  },
  {
   "cell_type": "markdown",
   "metadata": {},
   "source": [
    "### Rótulo\n",
    "Criaremos uma nova coluna chamada \"Rótulo\" baseada na faixa de valores da coluna \"prêmio_máximo\", como apresentado na seguinte tabela:\n",
    "\n",
    "| Intervalo [Milhões de Reais] | Rótulo |\n",
    "|------------------------------|--------|\n",
    "| 0 - 1                        | I      |\n",
    "| 1 - 5                        | II     |\n",
    "| 5 - 10                       | III    |\n",
    "| 10 - 20                      | IV     |\n",
    "| 20 - 40                      | V      |\n",
    "| 40 - 80                      | VI     |\n",
    "| 80 - 100                     | VII    |\n",
    "| 100 - 200                    | VIII   |\n",
    "| 200 - 300                    | IX     |\n",
    "| 300 -                        | X      |"
   ]
  },
  {
   "cell_type": "code",
   "execution_count": 4,
   "metadata": {},
   "outputs": [],
   "source": [
    "data['rotulo'] = pd.cut(data.premio_maximo,\n",
    "                        bins=[0,1e6,5e6,1e7,2e7,4e7,8e7,1e8,2e8,3e8,1e9],\n",
    "                        labels=[\"I\",\"II\",\"III\",\"IV\",\"V\",\"VI\",\"VII\",\"VIII\",\"IX\",\"X\"],\n",
    "                        include_lowest=True)"
   ]
  },
  {
   "cell_type": "markdown",
   "metadata": {},
   "source": [
    "## <a id=\"analysis\">Análises</a>\n",
    "Nessa seção, iremos realizar algumas análises nos dados que temos em mãos.\n",
    "\n",
    "### Dicas\n",
    "Pela Mega-Sena possuir prêmios de valores bastantes elevados, é normal encontrar sites com dicas para o jogador ter mais chances de ganhar. Sendo assim, iremos análisar 8 dicas encontradas em alguns sites e verificar a sua veracidade. As dicas são:\n",
    "\n",
    "1. Os números com final 9 ou 0 saem pouco, por isso, é bom evitar escolher várias números com essa sequencia.\n",
    "2. As dezenas 01, 02, 03, 11, 22, 44, 55, 48 e 57 saem pouco.\n",
    "3. Não jogue números seguidos.\n",
    "4. Não jogue em números que estejam na mesma linha vertical.\n",
    "5. Divida a cartela em quatro quadrantes e distribua seu jogo entre eles.\n",
    "6. Jogue sempre a mesma quantidade de dezenas pares e ímpares. Na Mega-Sena, 81% dos sorteios têm o seguinte esquema: 3 números pares e 3 ímpares ou 4 pares e 2 ímpares, ou vice-versa.\n",
    "7. Prefira apenas um cartão com mais de seis dezenas do que vários cartões de seis dezenas. A regra é simples: quanto mais números você apostar, maiores são as chances de acertar um deles.\n",
    "8. Um jogo em que se preenche 12 dezenas utilizando essas regras teria mais chances de êxito. Logo, o bolão é a melhor chance que se tem de ganhar.\n",
    "\n",
    "Algumas variáveis iremos utilizar na validação de mais de uma dica, sendo elas:"
   ]
  },
  {
   "cell_type": "code",
   "execution_count": 5,
   "metadata": {},
   "outputs": [],
   "source": [
    "# Colunas que iremos trabalhar\n",
    "cols_dezenas = ['Dezena1', 'Dezena2', 'Dezena3', 'Dezena4', 'Dezena5', 'Dezena6']\n",
    "\n",
    "# Dataframe filtrado pelas colunas que queremos\n",
    "data_cols = data[cols_dezenas]"
   ]
  },
  {
   "cell_type": "markdown",
   "metadata": {},
   "source": [
    "#### 1. Os números com final 9 ou 0 saem pouco"
   ]
  },
  {
   "cell_type": "code",
   "execution_count": 6,
   "metadata": {},
   "outputs": [],
   "source": [
    "# Vetor com índices e 0 a 9 que usaremos para contar\n",
    "count_last_digit = [0 for i in range(0, 10)]\n",
    "\n",
    "# Iremos percorrer cada celula do dataframe e verificar sua terminação\n",
    "for np_array in data_cols.values:\n",
    "    for number in np_array:\n",
    "        count_last_digit[ number % 10 ] += 1"
   ]
  },
  {
   "cell_type": "code",
   "execution_count": 7,
   "metadata": {
    "scrolled": true
   },
   "outputs": [
    {
     "name": "stdout",
     "output_type": "stream",
     "text": [
      "3 - 10.576131687242798\n",
      "4 - 10.444444444444445\n",
      "2 - 10.148148148148149\n",
      "0 - 10.08230452674897\n",
      "7 - 9.958847736625515\n",
      "8 - 9.893004115226338\n",
      "1 - 9.868312757201647\n",
      "6 - 9.76954732510288\n",
      "5 - 9.670781893004115\n",
      "9 - 9.588477366255145\n"
     ]
    }
   ],
   "source": [
    "# Total de números contados\n",
    "last_digit_total = sum(count_last_digit)\n",
    "\n",
    "# Ordenamos a lista pela quantidade de ocorrências de cada dígito (do menor para o maior)\n",
    "last_digit_sort = sorted(enumerate(count_last_digit), key=lambda x:x[1])\n",
    "# Invertemos a ordem para facilitar a visualização\n",
    "last_digit_sort.reverse()\n",
    "\n",
    "# Imprimimos a porcentagem de cada um\n",
    "for index, value in last_digit_sort:\n",
    "    print(\"{} - {}\".format(index, (value*100/last_digit_total)))"
   ]
  },
  {
   "cell_type": "markdown",
   "metadata": {},
   "source": [
    "Através das informações apresentadas logo acima, podemos constatar que:\n",
    "- Números com último dígito sendo **0** possuem a quarta maior ocorrência nos sorteios até agora;\n",
    "- Realmente os números com último dígito sendo **9** são os que menos saem nos sorteios. \n",
    "\n",
    "Sendo assim, a dica é verdade quando se trata apenas do dígito 9.\n",
    "\n",
    "#### 2. As dezenas 01, 02, 03, 11, 22, 44, 55, 48 e 57 saem pouco"
   ]
  },
  {
   "cell_type": "code",
   "execution_count": 8,
   "metadata": {},
   "outputs": [],
   "source": [
    "# Vetor com dígitos de 1 a 60\n",
    "count_digit = [0 for i in range(0, 60)]\n",
    "\n",
    "# Iremos percorrer cada celula do dataframe\n",
    "for np_array in data_cols.values:\n",
    "    for number in np_array:\n",
    "        count_digit[ number-1 ] += 1"
   ]
  },
  {
   "cell_type": "code",
   "execution_count": 9,
   "metadata": {},
   "outputs": [],
   "source": [
    "# Ordenamos a lista pela quantidade de ocorrências de cada dígito (do menor para o maior)\n",
    "digit_sort = sorted(enumerate(count_digit), key=lambda x:x[1])\n",
    "# Invertemos a ordem para facilitar a visualização\n",
    "digit_sort.reverse()"
   ]
  },
  {
   "cell_type": "code",
   "execution_count": 10,
   "metadata": {},
   "outputs": [
    {
     "name": "stdout",
     "output_type": "stream",
     "text": [
      "Dezena: 22 | Lugar no ranking de ocorrências: 3\n",
      "Dezena: 3 | Lugar no ranking de ocorrências: 4\n",
      "Dezena: 1 | Lugar no ranking de ocorrências: 21\n",
      "Dezena: 55 | Lugar no ranking de ocorrências: 23\n",
      "Dezena: 44 | Lugar no ranking de ocorrências: 32\n",
      "Dezena: 48 | Lugar no ranking de ocorrências: 34\n",
      "Dezena: 11 | Lugar no ranking de ocorrências: 37\n",
      "Dezena: 57 | Lugar no ranking de ocorrências: 39\n",
      "Dezena: 2 | Lugar no ranking de ocorrências: 46\n"
     ]
    }
   ],
   "source": [
    "find_digits = [1, 2, 3, 11, 22, 44, 55, 48, 57]\n",
    "for digit, value in digit_sort:\n",
    "    if digit in find_digits:\n",
    "        print(\"Dezena: {} | Lugar no ranking de ocorrências: {}\".format(digit, digit_sort.index((digit, value))))"
   ]
  },
  {
   "cell_type": "code",
   "execution_count": null,
   "metadata": {},
   "outputs": [],
   "source": []
  }
 ],
 "metadata": {
  "kernelspec": {
   "display_name": "Python 3",
   "language": "python",
   "name": "python3"
  },
  "language_info": {
   "codemirror_mode": {
    "name": "ipython",
    "version": 3
   },
   "file_extension": ".py",
   "mimetype": "text/x-python",
   "name": "python",
   "nbconvert_exporter": "python",
   "pygments_lexer": "ipython3",
   "version": "3.6.5"
  }
 },
 "nbformat": 4,
 "nbformat_minor": 2
}
