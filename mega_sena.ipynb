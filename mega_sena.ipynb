{
 "cells": [
  {
   "cell_type": "markdown",
   "metadata": {},
   "source": [
    "# Mega-Sena\n",
    "\n",
    "- **Aluno**: Álvaro Ferreira Pires de Paiva\n",
    "- **Matrícula**: 2016039162\n",
    "\n",
    "**Sumário**\n",
    "- [Base de dados](#database)\n",
    "- [Preparando o ambiente](#env_treatment)\n",
    "  - Prêmio máximo\n",
    "  - Rótulo\n",
    "- [Análises](#analysis)\n",
    "  - Dicas"
   ]
  },
  {
   "cell_type": "markdown",
   "metadata": {},
   "source": [
    "## <a id=\"database\">Base de dados</a>\n",
    "\n",
    "Nessa avaliação será utilizado a base de dados referente aos concursos da Mega-Sena. \n",
    "\n",
    "A **Mega-Sena** tem sido a maior modalidade lotérica do Brasil, sendo uma entre as dez modalidades atuais das loterias da Caixa (Caixa Econômica Federal), com sorteios ordinários duas vezes por semana, além da Mega-Sena da Virada.\n",
    "\n",
    "Para ganhar o **prêmio máximo da Mega-Sena** — **a sena** — , é necessário acertar a sena, o que significa obter coincidência entre **seis dos números** apostados e os seis números sorteados, de um total de sessenta dezenas (**de 01 a 60**), independentemente da ordem da aposta ou da ordem do sorteio. \n",
    "\n",
    "O concurso prevê também a chance de se ganhar parte do prêmio máximo, pelo acerto da **quina** (apenas cinco dos números sorteados), ou da **quadra** (apenas quatro dos números sorteados), com prêmios significativamente menores que aquele que seria pago na ocorrência do acerto da sena, o da quina maior que o da quadra. \n",
    "\n",
    "A base de dados está em formato de planilha em excel."
   ]
  },
  {
   "cell_type": "markdown",
   "metadata": {},
   "source": [
    "## <a id=\"env_treatment\">Preparando o ambiente</a>\n",
    "Aqui iremos realizar as importações de bibliotecas necessárias e o armazenamento dos dados para podermos analisarmos logo em seguida.\n",
    "Dependencies\n",
    "```\n",
    "!conda install bokeh\n",
    "```"
   ]
  },
  {
   "cell_type": "code",
   "execution_count": 18,
   "metadata": {},
   "outputs": [],
   "source": [
    "# Imports\n",
    "import pandas as pd\n",
    "from bokeh.models import HoverTool\n",
    "from bokeh.plotting import figure, output_notebook, show"
   ]
  },
  {
   "cell_type": "code",
   "execution_count": 3,
   "metadata": {},
   "outputs": [],
   "source": [
    "# Leitura dos dados\n",
    "excel_file = 'basedados.xlsx'\n",
    "excel = pd.ExcelFile(excel_file)\n",
    "data = excel.parse(0)"
   ]
  },
  {
   "cell_type": "markdown",
   "metadata": {},
   "source": [
    "### Prêmio máximo\n",
    "Para cada concurso da Mega-Sena, a maior premiação está relacionada com o acerto das 6 dezenas, e o seu valor é dada pela seguinte relação:\n",
    "\n",
    "$$Prêmio = Ganhadores\\_Sena\t\\times Rateio\\_Sena$$"
   ]
  },
  {
   "cell_type": "code",
   "execution_count": 4,
   "metadata": {},
   "outputs": [],
   "source": [
    "data['premio_maximo'] = data.Ganhadores_Sena * data.Rateio_Sena"
   ]
  },
  {
   "cell_type": "markdown",
   "metadata": {},
   "source": [
    "### Rótulo\n",
    "Criaremos uma nova coluna chamada \"Rótulo\" baseada na faixa de valores da coluna \"prêmio_máximo\", como apresentado na seguinte tabela:\n",
    "\n",
    "| Intervalo [Milhões de Reais] | Rótulo |\n",
    "|------------------------------|--------|\n",
    "| 0 - 1                        | I      |\n",
    "| 1 - 5                        | II     |\n",
    "| 5 - 10                       | III    |\n",
    "| 10 - 20                      | IV     |\n",
    "| 20 - 40                      | V      |\n",
    "| 40 - 80                      | VI     |\n",
    "| 80 - 100                     | VII    |\n",
    "| 100 - 200                    | VIII   |\n",
    "| 200 - 300                    | IX     |\n",
    "| 300 -                        | X      |"
   ]
  },
  {
   "cell_type": "code",
   "execution_count": 5,
   "metadata": {},
   "outputs": [],
   "source": [
    "data['rotulo'] = pd.cut(data.premio_maximo,\n",
    "                        bins=[0,1e6,5e6,1e7,2e7,4e7,8e7,1e8,2e8,3e8,1e9],\n",
    "                        labels=[\"I\",\"II\",\"III\",\"IV\",\"V\",\"VI\",\"VII\",\"VIII\",\"IX\",\"X\"],\n",
    "                        include_lowest=True)"
   ]
  },
  {
   "cell_type": "markdown",
   "metadata": {},
   "source": [
    "## <a id=\"analysis\">Análises</a>\n",
    "Nessa seção, iremos realizar algumas análises nos dados que temos em mãos.\n",
    "\n",
    "### Dicas\n",
    "Pela Mega-Sena possuir prêmios de valores bastantes elevados, é normal encontrar sites com dicas para o jogador ter mais chances de ganhar. Sendo assim, iremos análisar 8 dicas encontradas em alguns sites e verificar a sua veracidade. As dicas são:\n",
    "\n",
    "1. Os números com final 9 ou 0 saem pouco, por isso, é bom evitar escolher várias números com essa sequencia.\n",
    "2. As dezenas 01, 02, 03, 11, 22, 44, 55, 48 e 57 saem pouco.\n",
    "3. Não jogue números seguidos.\n",
    "4. Não jogue em números que estejam na mesma linha vertical.\n",
    "5. Divida a cartela em quatro quadrantes e distribua seu jogo entre eles.\n",
    "6. Jogue sempre a mesma quantidade de dezenas pares e ímpares. Na Mega-Sena, 81% dos sorteios têm o seguinte esquema: 3 números pares e 3 ímpares ou 4 pares e 2 ímpares, ou vice-versa.\n",
    "7. Prefira apenas um cartão com mais de seis dezenas do que vários cartões de seis dezenas. A regra é simples: quanto mais números você apostar, maiores são as chances de acertar um deles.\n",
    "8. Um jogo em que se preenche 12 dezenas utilizando essas regras teria mais chances de êxito. Logo, o bolão é a melhor chance que se tem de ganhar.\n",
    "\n",
    "Algumas variáveis iremos utilizar na validação de mais de uma dica, sendo elas:"
   ]
  },
  {
   "cell_type": "code",
   "execution_count": 6,
   "metadata": {},
   "outputs": [],
   "source": [
    "# Colunas que iremos trabalhar\n",
    "cols_dezenas = ['Dezena1', 'Dezena2', 'Dezena3', 'Dezena4', 'Dezena5', 'Dezena6']\n",
    "\n",
    "# Dataframe filtrado pelas colunas que queremos\n",
    "data_cols = data[cols_dezenas]"
   ]
  },
  {
   "cell_type": "markdown",
   "metadata": {},
   "source": [
    "#### 1. Os números com final 9 ou 0 saem pouco"
   ]
  },
  {
   "cell_type": "code",
   "execution_count": 7,
   "metadata": {},
   "outputs": [],
   "source": [
    "# Vetor com índices e 0 a 9 que usaremos para contar\n",
    "count_last_digit = [0 for i in range(0, 10)]\n",
    "\n",
    "# Iremos percorrer cada celula do dataframe e verificar sua terminação\n",
    "for np_array in data_cols.values:\n",
    "    for number in np_array:\n",
    "        count_last_digit[ number % 10 ] += 1"
   ]
  },
  {
   "cell_type": "code",
   "execution_count": 8,
   "metadata": {
    "scrolled": true
   },
   "outputs": [
    {
     "name": "stdout",
     "output_type": "stream",
     "text": [
      "3 - 10.576131687242798\n",
      "4 - 10.444444444444445\n",
      "2 - 10.148148148148149\n",
      "0 - 10.08230452674897\n",
      "7 - 9.958847736625515\n",
      "8 - 9.893004115226338\n",
      "1 - 9.868312757201647\n",
      "6 - 9.76954732510288\n",
      "5 - 9.670781893004115\n",
      "9 - 9.588477366255145\n"
     ]
    }
   ],
   "source": [
    "# Total de números contados\n",
    "last_digit_total = sum(count_last_digit)\n",
    "\n",
    "# Ordenamos a lista pela quantidade de ocorrências de cada dígito (do menor para o maior)\n",
    "last_digit_sort = sorted(enumerate(count_last_digit), key=lambda x:x[1])\n",
    "# Invertemos a ordem para facilitar a visualização\n",
    "last_digit_sort.reverse()\n",
    "\n",
    "# Imprimimos a porcentagem de cada um\n",
    "for index, value in last_digit_sort:\n",
    "    print(\"{} - {}\".format(index, (value*100/last_digit_total)))"
   ]
  },
  {
   "cell_type": "code",
   "execution_count": 26,
   "metadata": {},
   "outputs": [
    {
     "data": {
      "text/html": [
       "\n",
       "    <div class=\"bk-root\">\n",
       "        <a href=\"https://bokeh.pydata.org\" target=\"_blank\" class=\"bk-logo bk-logo-small bk-logo-notebook\"></a>\n",
       "        <span id=\"db40e24d-4f51-49eb-acdd-4b9270999b64\">Loading BokehJS ...</span>\n",
       "    </div>"
      ]
     },
     "metadata": {},
     "output_type": "display_data"
    },
    {
     "data": {
      "application/javascript": [
       "\n",
       "(function(root) {\n",
       "  function now() {\n",
       "    return new Date();\n",
       "  }\n",
       "\n",
       "  var force = true;\n",
       "\n",
       "  if (typeof (root._bokeh_onload_callbacks) === \"undefined\" || force === true) {\n",
       "    root._bokeh_onload_callbacks = [];\n",
       "    root._bokeh_is_loading = undefined;\n",
       "  }\n",
       "\n",
       "  var JS_MIME_TYPE = 'application/javascript';\n",
       "  var HTML_MIME_TYPE = 'text/html';\n",
       "  var EXEC_MIME_TYPE = 'application/vnd.bokehjs_exec.v0+json';\n",
       "  var CLASS_NAME = 'output_bokeh rendered_html';\n",
       "\n",
       "  /**\n",
       "   * Render data to the DOM node\n",
       "   */\n",
       "  function render(props, node) {\n",
       "    var script = document.createElement(\"script\");\n",
       "    node.appendChild(script);\n",
       "  }\n",
       "\n",
       "  /**\n",
       "   * Handle when an output is cleared or removed\n",
       "   */\n",
       "  function handleClearOutput(event, handle) {\n",
       "    var cell = handle.cell;\n",
       "\n",
       "    var id = cell.output_area._bokeh_element_id;\n",
       "    var server_id = cell.output_area._bokeh_server_id;\n",
       "    // Clean up Bokeh references\n",
       "    if (id !== undefined) {\n",
       "      Bokeh.index[id].model.document.clear();\n",
       "      delete Bokeh.index[id];\n",
       "    }\n",
       "\n",
       "    if (server_id !== undefined) {\n",
       "      // Clean up Bokeh references\n",
       "      var cmd = \"from bokeh.io.state import curstate; print(curstate().uuid_to_server['\" + server_id + \"'].get_sessions()[0].document.roots[0]._id)\";\n",
       "      cell.notebook.kernel.execute(cmd, {\n",
       "        iopub: {\n",
       "          output: function(msg) {\n",
       "            var element_id = msg.content.text.trim();\n",
       "            Bokeh.index[element_id].model.document.clear();\n",
       "            delete Bokeh.index[element_id];\n",
       "          }\n",
       "        }\n",
       "      });\n",
       "      // Destroy server and session\n",
       "      var cmd = \"import bokeh.io.notebook as ion; ion.destroy_server('\" + server_id + \"')\";\n",
       "      cell.notebook.kernel.execute(cmd);\n",
       "    }\n",
       "  }\n",
       "\n",
       "  /**\n",
       "   * Handle when a new output is added\n",
       "   */\n",
       "  function handleAddOutput(event, handle) {\n",
       "    var output_area = handle.output_area;\n",
       "    var output = handle.output;\n",
       "\n",
       "    // limit handleAddOutput to display_data with EXEC_MIME_TYPE content only\n",
       "    if ((output.output_type != \"display_data\") || (!output.data.hasOwnProperty(EXEC_MIME_TYPE))) {\n",
       "      return\n",
       "    }\n",
       "\n",
       "    var toinsert = output_area.element.find(\".\" + CLASS_NAME.split(' ')[0]);\n",
       "\n",
       "    if (output.metadata[EXEC_MIME_TYPE][\"id\"] !== undefined) {\n",
       "      toinsert[toinsert.length - 1].firstChild.textContent = output.data[JS_MIME_TYPE];\n",
       "      // store reference to embed id on output_area\n",
       "      output_area._bokeh_element_id = output.metadata[EXEC_MIME_TYPE][\"id\"];\n",
       "    }\n",
       "    if (output.metadata[EXEC_MIME_TYPE][\"server_id\"] !== undefined) {\n",
       "      var bk_div = document.createElement(\"div\");\n",
       "      bk_div.innerHTML = output.data[HTML_MIME_TYPE];\n",
       "      var script_attrs = bk_div.children[0].attributes;\n",
       "      for (var i = 0; i < script_attrs.length; i++) {\n",
       "        toinsert[toinsert.length - 1].firstChild.setAttribute(script_attrs[i].name, script_attrs[i].value);\n",
       "      }\n",
       "      // store reference to server id on output_area\n",
       "      output_area._bokeh_server_id = output.metadata[EXEC_MIME_TYPE][\"server_id\"];\n",
       "    }\n",
       "  }\n",
       "\n",
       "  function register_renderer(events, OutputArea) {\n",
       "\n",
       "    function append_mime(data, metadata, element) {\n",
       "      // create a DOM node to render to\n",
       "      var toinsert = this.create_output_subarea(\n",
       "        metadata,\n",
       "        CLASS_NAME,\n",
       "        EXEC_MIME_TYPE\n",
       "      );\n",
       "      this.keyboard_manager.register_events(toinsert);\n",
       "      // Render to node\n",
       "      var props = {data: data, metadata: metadata[EXEC_MIME_TYPE]};\n",
       "      render(props, toinsert[toinsert.length - 1]);\n",
       "      element.append(toinsert);\n",
       "      return toinsert\n",
       "    }\n",
       "\n",
       "    /* Handle when an output is cleared or removed */\n",
       "    events.on('clear_output.CodeCell', handleClearOutput);\n",
       "    events.on('delete.Cell', handleClearOutput);\n",
       "\n",
       "    /* Handle when a new output is added */\n",
       "    events.on('output_added.OutputArea', handleAddOutput);\n",
       "\n",
       "    /**\n",
       "     * Register the mime type and append_mime function with output_area\n",
       "     */\n",
       "    OutputArea.prototype.register_mime_type(EXEC_MIME_TYPE, append_mime, {\n",
       "      /* Is output safe? */\n",
       "      safe: true,\n",
       "      /* Index of renderer in `output_area.display_order` */\n",
       "      index: 0\n",
       "    });\n",
       "  }\n",
       "\n",
       "  // register the mime type if in Jupyter Notebook environment and previously unregistered\n",
       "  if (root.Jupyter !== undefined) {\n",
       "    var events = require('base/js/events');\n",
       "    var OutputArea = require('notebook/js/outputarea').OutputArea;\n",
       "\n",
       "    if (OutputArea.prototype.mime_types().indexOf(EXEC_MIME_TYPE) == -1) {\n",
       "      register_renderer(events, OutputArea);\n",
       "    }\n",
       "  }\n",
       "\n",
       "  \n",
       "  if (typeof (root._bokeh_timeout) === \"undefined\" || force === true) {\n",
       "    root._bokeh_timeout = Date.now() + 5000;\n",
       "    root._bokeh_failed_load = false;\n",
       "  }\n",
       "\n",
       "  var NB_LOAD_WARNING = {'data': {'text/html':\n",
       "     \"<div style='background-color: #fdd'>\\n\"+\n",
       "     \"<p>\\n\"+\n",
       "     \"BokehJS does not appear to have successfully loaded. If loading BokehJS from CDN, this \\n\"+\n",
       "     \"may be due to a slow or bad network connection. Possible fixes:\\n\"+\n",
       "     \"</p>\\n\"+\n",
       "     \"<ul>\\n\"+\n",
       "     \"<li>re-rerun `output_notebook()` to attempt to load from CDN again, or</li>\\n\"+\n",
       "     \"<li>use INLINE resources instead, as so:</li>\\n\"+\n",
       "     \"</ul>\\n\"+\n",
       "     \"<code>\\n\"+\n",
       "     \"from bokeh.resources import INLINE\\n\"+\n",
       "     \"output_notebook(resources=INLINE)\\n\"+\n",
       "     \"</code>\\n\"+\n",
       "     \"</div>\"}};\n",
       "\n",
       "  function display_loaded() {\n",
       "    var el = document.getElementById(\"db40e24d-4f51-49eb-acdd-4b9270999b64\");\n",
       "    if (el != null) {\n",
       "      el.textContent = \"BokehJS is loading...\";\n",
       "    }\n",
       "    if (root.Bokeh !== undefined) {\n",
       "      if (el != null) {\n",
       "        el.textContent = \"BokehJS \" + root.Bokeh.version + \" successfully loaded.\";\n",
       "      }\n",
       "    } else if (Date.now() < root._bokeh_timeout) {\n",
       "      setTimeout(display_loaded, 100)\n",
       "    }\n",
       "  }\n",
       "\n",
       "\n",
       "  function run_callbacks() {\n",
       "    try {\n",
       "      root._bokeh_onload_callbacks.forEach(function(callback) { callback() });\n",
       "    }\n",
       "    finally {\n",
       "      delete root._bokeh_onload_callbacks\n",
       "    }\n",
       "    console.info(\"Bokeh: all callbacks have finished\");\n",
       "  }\n",
       "\n",
       "  function load_libs(js_urls, callback) {\n",
       "    root._bokeh_onload_callbacks.push(callback);\n",
       "    if (root._bokeh_is_loading > 0) {\n",
       "      console.log(\"Bokeh: BokehJS is being loaded, scheduling callback at\", now());\n",
       "      return null;\n",
       "    }\n",
       "    if (js_urls == null || js_urls.length === 0) {\n",
       "      run_callbacks();\n",
       "      return null;\n",
       "    }\n",
       "    console.log(\"Bokeh: BokehJS not loaded, scheduling load and callback at\", now());\n",
       "    root._bokeh_is_loading = js_urls.length;\n",
       "    for (var i = 0; i < js_urls.length; i++) {\n",
       "      var url = js_urls[i];\n",
       "      var s = document.createElement('script');\n",
       "      s.src = url;\n",
       "      s.async = false;\n",
       "      s.onreadystatechange = s.onload = function() {\n",
       "        root._bokeh_is_loading--;\n",
       "        if (root._bokeh_is_loading === 0) {\n",
       "          console.log(\"Bokeh: all BokehJS libraries loaded\");\n",
       "          run_callbacks()\n",
       "        }\n",
       "      };\n",
       "      s.onerror = function() {\n",
       "        console.warn(\"failed to load library \" + url);\n",
       "      };\n",
       "      console.log(\"Bokeh: injecting script tag for BokehJS library: \", url);\n",
       "      document.getElementsByTagName(\"head\")[0].appendChild(s);\n",
       "    }\n",
       "  };var element = document.getElementById(\"db40e24d-4f51-49eb-acdd-4b9270999b64\");\n",
       "  if (element == null) {\n",
       "    console.log(\"Bokeh: ERROR: autoload.js configured with elementid 'db40e24d-4f51-49eb-acdd-4b9270999b64' but no matching script tag was found. \")\n",
       "    return false;\n",
       "  }\n",
       "\n",
       "  var js_urls = [\"https://cdn.pydata.org/bokeh/release/bokeh-0.12.15.min.js\", \"https://cdn.pydata.org/bokeh/release/bokeh-widgets-0.12.15.min.js\", \"https://cdn.pydata.org/bokeh/release/bokeh-tables-0.12.15.min.js\", \"https://cdn.pydata.org/bokeh/release/bokeh-gl-0.12.15.min.js\"];\n",
       "\n",
       "  var inline_js = [\n",
       "    function(Bokeh) {\n",
       "      Bokeh.set_log_level(\"info\");\n",
       "    },\n",
       "    \n",
       "    function(Bokeh) {\n",
       "      \n",
       "    },\n",
       "    function(Bokeh) {\n",
       "      console.log(\"Bokeh: injecting CSS: https://cdn.pydata.org/bokeh/release/bokeh-0.12.15.min.css\");\n",
       "      Bokeh.embed.inject_css(\"https://cdn.pydata.org/bokeh/release/bokeh-0.12.15.min.css\");\n",
       "      console.log(\"Bokeh: injecting CSS: https://cdn.pydata.org/bokeh/release/bokeh-widgets-0.12.15.min.css\");\n",
       "      Bokeh.embed.inject_css(\"https://cdn.pydata.org/bokeh/release/bokeh-widgets-0.12.15.min.css\");\n",
       "      console.log(\"Bokeh: injecting CSS: https://cdn.pydata.org/bokeh/release/bokeh-tables-0.12.15.min.css\");\n",
       "      Bokeh.embed.inject_css(\"https://cdn.pydata.org/bokeh/release/bokeh-tables-0.12.15.min.css\");\n",
       "    }\n",
       "  ];\n",
       "\n",
       "  function run_inline_js() {\n",
       "    \n",
       "    if ((root.Bokeh !== undefined) || (force === true)) {\n",
       "      for (var i = 0; i < inline_js.length; i++) {\n",
       "        inline_js[i].call(root, root.Bokeh);\n",
       "      }if (force === true) {\n",
       "        display_loaded();\n",
       "      }} else if (Date.now() < root._bokeh_timeout) {\n",
       "      setTimeout(run_inline_js, 100);\n",
       "    } else if (!root._bokeh_failed_load) {\n",
       "      console.log(\"Bokeh: BokehJS failed to load within specified timeout.\");\n",
       "      root._bokeh_failed_load = true;\n",
       "    } else if (force !== true) {\n",
       "      var cell = $(document.getElementById(\"db40e24d-4f51-49eb-acdd-4b9270999b64\")).parents('.cell').data().cell;\n",
       "      cell.output_area.append_execute_result(NB_LOAD_WARNING)\n",
       "    }\n",
       "\n",
       "  }\n",
       "\n",
       "  if (root._bokeh_is_loading === 0) {\n",
       "    console.log(\"Bokeh: BokehJS loaded, going straight to plotting\");\n",
       "    run_inline_js();\n",
       "  } else {\n",
       "    load_libs(js_urls, function() {\n",
       "      console.log(\"Bokeh: BokehJS plotting callback run at\", now());\n",
       "      run_inline_js();\n",
       "    });\n",
       "  }\n",
       "}(window));"
      ],
      "application/vnd.bokehjs_load.v0+json": "\n(function(root) {\n  function now() {\n    return new Date();\n  }\n\n  var force = true;\n\n  if (typeof (root._bokeh_onload_callbacks) === \"undefined\" || force === true) {\n    root._bokeh_onload_callbacks = [];\n    root._bokeh_is_loading = undefined;\n  }\n\n  \n\n  \n  if (typeof (root._bokeh_timeout) === \"undefined\" || force === true) {\n    root._bokeh_timeout = Date.now() + 5000;\n    root._bokeh_failed_load = false;\n  }\n\n  var NB_LOAD_WARNING = {'data': {'text/html':\n     \"<div style='background-color: #fdd'>\\n\"+\n     \"<p>\\n\"+\n     \"BokehJS does not appear to have successfully loaded. If loading BokehJS from CDN, this \\n\"+\n     \"may be due to a slow or bad network connection. Possible fixes:\\n\"+\n     \"</p>\\n\"+\n     \"<ul>\\n\"+\n     \"<li>re-rerun `output_notebook()` to attempt to load from CDN again, or</li>\\n\"+\n     \"<li>use INLINE resources instead, as so:</li>\\n\"+\n     \"</ul>\\n\"+\n     \"<code>\\n\"+\n     \"from bokeh.resources import INLINE\\n\"+\n     \"output_notebook(resources=INLINE)\\n\"+\n     \"</code>\\n\"+\n     \"</div>\"}};\n\n  function display_loaded() {\n    var el = document.getElementById(\"db40e24d-4f51-49eb-acdd-4b9270999b64\");\n    if (el != null) {\n      el.textContent = \"BokehJS is loading...\";\n    }\n    if (root.Bokeh !== undefined) {\n      if (el != null) {\n        el.textContent = \"BokehJS \" + root.Bokeh.version + \" successfully loaded.\";\n      }\n    } else if (Date.now() < root._bokeh_timeout) {\n      setTimeout(display_loaded, 100)\n    }\n  }\n\n\n  function run_callbacks() {\n    try {\n      root._bokeh_onload_callbacks.forEach(function(callback) { callback() });\n    }\n    finally {\n      delete root._bokeh_onload_callbacks\n    }\n    console.info(\"Bokeh: all callbacks have finished\");\n  }\n\n  function load_libs(js_urls, callback) {\n    root._bokeh_onload_callbacks.push(callback);\n    if (root._bokeh_is_loading > 0) {\n      console.log(\"Bokeh: BokehJS is being loaded, scheduling callback at\", now());\n      return null;\n    }\n    if (js_urls == null || js_urls.length === 0) {\n      run_callbacks();\n      return null;\n    }\n    console.log(\"Bokeh: BokehJS not loaded, scheduling load and callback at\", now());\n    root._bokeh_is_loading = js_urls.length;\n    for (var i = 0; i < js_urls.length; i++) {\n      var url = js_urls[i];\n      var s = document.createElement('script');\n      s.src = url;\n      s.async = false;\n      s.onreadystatechange = s.onload = function() {\n        root._bokeh_is_loading--;\n        if (root._bokeh_is_loading === 0) {\n          console.log(\"Bokeh: all BokehJS libraries loaded\");\n          run_callbacks()\n        }\n      };\n      s.onerror = function() {\n        console.warn(\"failed to load library \" + url);\n      };\n      console.log(\"Bokeh: injecting script tag for BokehJS library: \", url);\n      document.getElementsByTagName(\"head\")[0].appendChild(s);\n    }\n  };var element = document.getElementById(\"db40e24d-4f51-49eb-acdd-4b9270999b64\");\n  if (element == null) {\n    console.log(\"Bokeh: ERROR: autoload.js configured with elementid 'db40e24d-4f51-49eb-acdd-4b9270999b64' but no matching script tag was found. \")\n    return false;\n  }\n\n  var js_urls = [\"https://cdn.pydata.org/bokeh/release/bokeh-0.12.15.min.js\", \"https://cdn.pydata.org/bokeh/release/bokeh-widgets-0.12.15.min.js\", \"https://cdn.pydata.org/bokeh/release/bokeh-tables-0.12.15.min.js\", \"https://cdn.pydata.org/bokeh/release/bokeh-gl-0.12.15.min.js\"];\n\n  var inline_js = [\n    function(Bokeh) {\n      Bokeh.set_log_level(\"info\");\n    },\n    \n    function(Bokeh) {\n      \n    },\n    function(Bokeh) {\n      console.log(\"Bokeh: injecting CSS: https://cdn.pydata.org/bokeh/release/bokeh-0.12.15.min.css\");\n      Bokeh.embed.inject_css(\"https://cdn.pydata.org/bokeh/release/bokeh-0.12.15.min.css\");\n      console.log(\"Bokeh: injecting CSS: https://cdn.pydata.org/bokeh/release/bokeh-widgets-0.12.15.min.css\");\n      Bokeh.embed.inject_css(\"https://cdn.pydata.org/bokeh/release/bokeh-widgets-0.12.15.min.css\");\n      console.log(\"Bokeh: injecting CSS: https://cdn.pydata.org/bokeh/release/bokeh-tables-0.12.15.min.css\");\n      Bokeh.embed.inject_css(\"https://cdn.pydata.org/bokeh/release/bokeh-tables-0.12.15.min.css\");\n    }\n  ];\n\n  function run_inline_js() {\n    \n    if ((root.Bokeh !== undefined) || (force === true)) {\n      for (var i = 0; i < inline_js.length; i++) {\n        inline_js[i].call(root, root.Bokeh);\n      }if (force === true) {\n        display_loaded();\n      }} else if (Date.now() < root._bokeh_timeout) {\n      setTimeout(run_inline_js, 100);\n    } else if (!root._bokeh_failed_load) {\n      console.log(\"Bokeh: BokehJS failed to load within specified timeout.\");\n      root._bokeh_failed_load = true;\n    } else if (force !== true) {\n      var cell = $(document.getElementById(\"db40e24d-4f51-49eb-acdd-4b9270999b64\")).parents('.cell').data().cell;\n      cell.output_area.append_execute_result(NB_LOAD_WARNING)\n    }\n\n  }\n\n  if (root._bokeh_is_loading === 0) {\n    console.log(\"Bokeh: BokehJS loaded, going straight to plotting\");\n    run_inline_js();\n  } else {\n    load_libs(js_urls, function() {\n      console.log(\"Bokeh: BokehJS plotting callback run at\", now());\n      run_inline_js();\n    });\n  }\n}(window));"
     },
     "metadata": {},
     "output_type": "display_data"
    },
    {
     "data": {
      "text/html": [
       "\n",
       "<div class=\"bk-root\">\n",
       "    <div class=\"bk-plotdiv\" id=\"d18e6cef-640d-4907-aa34-aa3d1c0793b2\"></div>\n",
       "</div>"
      ]
     },
     "metadata": {},
     "output_type": "display_data"
    },
    {
     "data": {
      "application/javascript": [
       "(function(root) {\n",
       "  function embed_document(root) {\n",
       "    \n",
       "  var docs_json = {\"6aa94525-87bb-4ec0-94a8-3084f0b606c5\":{\"roots\":{\"references\":[{\"attributes\":{\"plot\":null,\"text\":\"\"},\"id\":\"879ac710-339d-4ba0-bab1-7db71ea261c6\",\"type\":\"Title\"},{\"attributes\":{},\"id\":\"9dd67b48-edbd-4f58-b38d-cfd6c233781b\",\"type\":\"LinearScale\"},{\"attributes\":{\"active_drag\":\"auto\",\"active_inspect\":\"auto\",\"active_scroll\":\"auto\",\"active_tap\":\"auto\",\"tools\":[{\"id\":\"e02dd084-b28e-4dde-b6c7-a20bfc699668\",\"type\":\"PanTool\"},{\"id\":\"e223752a-a6cf-46a8-a946-7baad29a313f\",\"type\":\"WheelZoomTool\"},{\"id\":\"48ba9dee-f08a-437a-95c3-b41daf709ee6\",\"type\":\"BoxZoomTool\"},{\"id\":\"0ac8f275-0800-4756-84ca-658389806e51\",\"type\":\"SaveTool\"},{\"id\":\"0b542793-efe8-4025-bb48-a82bf1724552\",\"type\":\"ResetTool\"},{\"id\":\"04828f50-e9d9-48d1-b703-68fc20e7dfa3\",\"type\":\"HelpTool\"},{\"id\":\"9bb70d13-4e2c-4599-811b-ac398f02b357\",\"type\":\"HoverTool\"}]},\"id\":\"64292684-fdd2-4852-8357-f09c9c938be1\",\"type\":\"Toolbar\"},{\"attributes\":{\"below\":[{\"id\":\"e8724270-6eb4-45e2-9563-d0eec6761080\",\"type\":\"LinearAxis\"}],\"left\":[{\"id\":\"bddec649-7996-4ecd-84ee-dedb9a9d4c30\",\"type\":\"LinearAxis\"}],\"plot_height\":500,\"plot_width\":500,\"renderers\":[{\"id\":\"e8724270-6eb4-45e2-9563-d0eec6761080\",\"type\":\"LinearAxis\"},{\"id\":\"8e5c5eef-0d28-4ba9-8cd9-e1fce24076d9\",\"type\":\"Grid\"},{\"id\":\"bddec649-7996-4ecd-84ee-dedb9a9d4c30\",\"type\":\"LinearAxis\"},{\"id\":\"0271f5cc-33d2-475a-8256-e31589d82c53\",\"type\":\"Grid\"},{\"id\":\"a2063d83-4793-4137-8126-5f6c3ff66ba9\",\"type\":\"BoxAnnotation\"},{\"id\":\"223be055-522b-4b94-806d-2ad5a8b9532c\",\"type\":\"GlyphRenderer\"}],\"title\":{\"id\":\"879ac710-339d-4ba0-bab1-7db71ea261c6\",\"type\":\"Title\"},\"toolbar\":{\"id\":\"64292684-fdd2-4852-8357-f09c9c938be1\",\"type\":\"Toolbar\"},\"x_range\":{\"id\":\"1991fef1-d229-4413-a31c-549ec75815d8\",\"type\":\"DataRange1d\"},\"x_scale\":{\"id\":\"9dd67b48-edbd-4f58-b38d-cfd6c233781b\",\"type\":\"LinearScale\"},\"y_range\":{\"id\":\"cf4c3d5d-620d-4a9a-bffb-f7ffb94e60ed\",\"type\":\"DataRange1d\"},\"y_scale\":{\"id\":\"fe3b6716-e6be-4ddc-a23e-585c97bd7e59\",\"type\":\"LinearScale\"}},\"id\":\"7b7a6b9e-b0dc-4924-8529-808086197648\",\"subtype\":\"Figure\",\"type\":\"Plot\"},{\"attributes\":{},\"id\":\"2c6e0896-5ceb-4129-9601-31459a4dbde9\",\"type\":\"BasicTickFormatter\"},{\"attributes\":{\"fill_alpha\":{\"value\":0.1},\"fill_color\":{\"value\":\"#1f77b4\"},\"line_alpha\":{\"value\":0.1},\"line_color\":{\"value\":\"#1f77b4\"},\"top\":{\"field\":\"top\"},\"width\":{\"value\":0.5},\"x\":{\"field\":\"x\"}},\"id\":\"e8388156-6ee5-41e1-91f5-00d3702e01b5\",\"type\":\"VBar\"},{\"attributes\":{},\"id\":\"fc4d34d2-8997-496f-8bdb-0ec6dc403e71\",\"type\":\"BasicTickFormatter\"},{\"attributes\":{\"fill_color\":{\"value\":\"#1f77b4\"},\"line_color\":{\"value\":\"#1f77b4\"},\"top\":{\"field\":\"top\"},\"width\":{\"value\":0.5},\"x\":{\"field\":\"x\"}},\"id\":\"9288a164-6f3f-4c52-adc9-0f5a88c3e353\",\"type\":\"VBar\"},{\"attributes\":{\"dimension\":1,\"plot\":{\"id\":\"7b7a6b9e-b0dc-4924-8529-808086197648\",\"subtype\":\"Figure\",\"type\":\"Plot\"},\"ticker\":{\"id\":\"8e50c9da-6ab5-4473-8f28-ece136b26fa6\",\"type\":\"BasicTicker\"}},\"id\":\"0271f5cc-33d2-475a-8256-e31589d82c53\",\"type\":\"Grid\"},{\"attributes\":{\"bottom_units\":\"screen\",\"fill_alpha\":{\"value\":0.5},\"fill_color\":{\"value\":\"lightgrey\"},\"left_units\":\"screen\",\"level\":\"overlay\",\"line_alpha\":{\"value\":1.0},\"line_color\":{\"value\":\"black\"},\"line_dash\":[4,4],\"line_width\":{\"value\":2},\"plot\":null,\"render_mode\":\"css\",\"right_units\":\"screen\",\"top_units\":\"screen\"},\"id\":\"a2063d83-4793-4137-8126-5f6c3ff66ba9\",\"type\":\"BoxAnnotation\"},{\"attributes\":{},\"id\":\"e02dd084-b28e-4dde-b6c7-a20bfc699668\",\"type\":\"PanTool\"},{\"attributes\":{\"callback\":null,\"tooltips\":[[\"D\\u00edgito\",\"@x\"],[\"Ocorr\\u00eancias\",\"@top\"]]},\"id\":\"9bb70d13-4e2c-4599-811b-ac398f02b357\",\"type\":\"HoverTool\"},{\"attributes\":{\"data_source\":{\"id\":\"6b10ed74-f702-40b3-b96d-1bd866fc23c0\",\"type\":\"ColumnDataSource\"},\"glyph\":{\"id\":\"9288a164-6f3f-4c52-adc9-0f5a88c3e353\",\"type\":\"VBar\"},\"hover_glyph\":null,\"muted_glyph\":null,\"nonselection_glyph\":{\"id\":\"e8388156-6ee5-41e1-91f5-00d3702e01b5\",\"type\":\"VBar\"},\"selection_glyph\":null,\"view\":{\"id\":\"b78ea0d8-285b-469f-8e81-69a592243a1e\",\"type\":\"CDSView\"}},\"id\":\"223be055-522b-4b94-806d-2ad5a8b9532c\",\"type\":\"GlyphRenderer\"},{\"attributes\":{},\"id\":\"8e50c9da-6ab5-4473-8f28-ece136b26fa6\",\"type\":\"BasicTicker\"},{\"attributes\":{},\"id\":\"e223752a-a6cf-46a8-a946-7baad29a313f\",\"type\":\"WheelZoomTool\"},{\"attributes\":{\"overlay\":{\"id\":\"a2063d83-4793-4137-8126-5f6c3ff66ba9\",\"type\":\"BoxAnnotation\"}},\"id\":\"48ba9dee-f08a-437a-95c3-b41daf709ee6\",\"type\":\"BoxZoomTool\"},{\"attributes\":{},\"id\":\"fe3b6716-e6be-4ddc-a23e-585c97bd7e59\",\"type\":\"LinearScale\"},{\"attributes\":{\"callback\":null},\"id\":\"1991fef1-d229-4413-a31c-549ec75815d8\",\"type\":\"DataRange1d\"},{\"attributes\":{},\"id\":\"0ac8f275-0800-4756-84ca-658389806e51\",\"type\":\"SaveTool\"},{\"attributes\":{},\"id\":\"0b542793-efe8-4025-bb48-a82bf1724552\",\"type\":\"ResetTool\"},{\"attributes\":{\"formatter\":{\"id\":\"fc4d34d2-8997-496f-8bdb-0ec6dc403e71\",\"type\":\"BasicTickFormatter\"},\"plot\":{\"id\":\"7b7a6b9e-b0dc-4924-8529-808086197648\",\"subtype\":\"Figure\",\"type\":\"Plot\"},\"ticker\":{\"id\":\"8e50c9da-6ab5-4473-8f28-ece136b26fa6\",\"type\":\"BasicTicker\"}},\"id\":\"bddec649-7996-4ecd-84ee-dedb9a9d4c30\",\"type\":\"LinearAxis\"},{\"attributes\":{},\"id\":\"04828f50-e9d9-48d1-b703-68fc20e7dfa3\",\"type\":\"HelpTool\"},{\"attributes\":{},\"id\":\"69fb25e8-48d0-4239-878e-16299faf112b\",\"type\":\"BasicTicker\"},{\"attributes\":{\"plot\":{\"id\":\"7b7a6b9e-b0dc-4924-8529-808086197648\",\"subtype\":\"Figure\",\"type\":\"Plot\"},\"ticker\":{\"id\":\"69fb25e8-48d0-4239-878e-16299faf112b\",\"type\":\"BasicTicker\"}},\"id\":\"8e5c5eef-0d28-4ba9-8cd9-e1fce24076d9\",\"type\":\"Grid\"},{\"attributes\":{\"source\":{\"id\":\"6b10ed74-f702-40b3-b96d-1bd866fc23c0\",\"type\":\"ColumnDataSource\"}},\"id\":\"b78ea0d8-285b-469f-8e81-69a592243a1e\",\"type\":\"CDSView\"},{\"attributes\":{\"callback\":null},\"id\":\"cf4c3d5d-620d-4a9a-bffb-f7ffb94e60ed\",\"type\":\"DataRange1d\"},{\"attributes\":{\"callback\":null,\"column_names\":[\"x\",\"top\"],\"data\":{\"top\":[1285,1269,1233,1225,1210,1202,1199,1187,1175,1165],\"x\":[3,4,2,0,7,8,1,6,5,9]},\"selected\":null,\"selection_policy\":null},\"id\":\"6b10ed74-f702-40b3-b96d-1bd866fc23c0\",\"type\":\"ColumnDataSource\"},{\"attributes\":{\"formatter\":{\"id\":\"2c6e0896-5ceb-4129-9601-31459a4dbde9\",\"type\":\"BasicTickFormatter\"},\"plot\":{\"id\":\"7b7a6b9e-b0dc-4924-8529-808086197648\",\"subtype\":\"Figure\",\"type\":\"Plot\"},\"ticker\":{\"id\":\"69fb25e8-48d0-4239-878e-16299faf112b\",\"type\":\"BasicTicker\"}},\"id\":\"e8724270-6eb4-45e2-9563-d0eec6761080\",\"type\":\"LinearAxis\"}],\"root_ids\":[\"7b7a6b9e-b0dc-4924-8529-808086197648\"]},\"title\":\"Bokeh Application\",\"version\":\"0.12.15\"}};\n",
       "  var render_items = [{\"docid\":\"6aa94525-87bb-4ec0-94a8-3084f0b606c5\",\"elementid\":\"d18e6cef-640d-4907-aa34-aa3d1c0793b2\",\"modelid\":\"7b7a6b9e-b0dc-4924-8529-808086197648\"}];\n",
       "  root.Bokeh.embed.embed_items_notebook(docs_json, render_items);\n",
       "\n",
       "  }\n",
       "  if (root.Bokeh !== undefined) {\n",
       "    embed_document(root);\n",
       "  } else {\n",
       "    var attempts = 0;\n",
       "    var timer = setInterval(function(root) {\n",
       "      if (root.Bokeh !== undefined) {\n",
       "        embed_document(root);\n",
       "        clearInterval(timer);\n",
       "      }\n",
       "      attempts++;\n",
       "      if (attempts > 100) {\n",
       "        console.log(\"Bokeh: ERROR: Unable to run BokehJS code because BokehJS library is missing\")\n",
       "        clearInterval(timer);\n",
       "      }\n",
       "    }, 10, root)\n",
       "  }\n",
       "})(window);"
      ],
      "application/vnd.bokehjs_exec.v0+json": ""
     },
     "metadata": {
      "application/vnd.bokehjs_exec.v0+json": {
       "id": "7b7a6b9e-b0dc-4924-8529-808086197648"
      }
     },
     "output_type": "display_data"
    }
   ],
   "source": [
    "dica1 = figure(plot_width=500, plot_height=500)\n",
    "dica1.vbar(x=[i for i,v in last_digit_sort],\n",
    "       width=0.5,\n",
    "       bottom=0,\n",
    "       top=[v for i,v in last_digit_sort])\n",
    "\n",
    "dica1.add_tools(HoverTool(tooltips = [\n",
    "    (\"Dígito\", \"@x\"),\n",
    "    (\"Ocorrências\", \"@top\"),\n",
    "]))\n",
    "\n",
    "output_notebook()\n",
    "show(dica1)"
   ]
  },
  {
   "cell_type": "markdown",
   "metadata": {},
   "source": [
    "Através das informações apresentadas logo acima, podemos constatar que:\n",
    "- Números com último dígito sendo **0** possuem a quarta maior ocorrência nos sorteios até agora;\n",
    "- Realmente os números com último dígito sendo **9** são os que menos saem nos sorteios. \n",
    "\n",
    "Sendo assim, a dica é verdade quando se trata apenas do dígito 9.\n",
    "\n",
    "#### 2. As dezenas 01, 02, 03, 11, 22, 44, 55, 48 e 57 saem pouco"
   ]
  },
  {
   "cell_type": "code",
   "execution_count": 9,
   "metadata": {},
   "outputs": [],
   "source": [
    "# Vetor com dígitos de 1 a 60\n",
    "count_digit = [0 for i in range(0, 60)]\n",
    "\n",
    "# Iremos percorrer cada celula do dataframe\n",
    "for np_array in data_cols.values:\n",
    "    for number in np_array:\n",
    "        count_digit[ number-1 ] += 1"
   ]
  },
  {
   "cell_type": "code",
   "execution_count": 10,
   "metadata": {},
   "outputs": [],
   "source": [
    "# Ordenamos a lista pela quantidade de ocorrências de cada dígito (do menor para o maior)\n",
    "digit_sort = sorted(enumerate(count_digit), key=lambda x:x[1])\n",
    "# Invertemos a ordem para facilitar a visualização\n",
    "digit_sort.reverse()"
   ]
  },
  {
   "cell_type": "code",
   "execution_count": 11,
   "metadata": {},
   "outputs": [
    {
     "name": "stdout",
     "output_type": "stream",
     "text": [
      "Dezena: 22 | Lugar no ranking de ocorrências: 3\n",
      "Dezena: 3 | Lugar no ranking de ocorrências: 4\n",
      "Dezena: 1 | Lugar no ranking de ocorrências: 21\n",
      "Dezena: 55 | Lugar no ranking de ocorrências: 23\n",
      "Dezena: 44 | Lugar no ranking de ocorrências: 32\n",
      "Dezena: 48 | Lugar no ranking de ocorrências: 34\n",
      "Dezena: 11 | Lugar no ranking de ocorrências: 37\n",
      "Dezena: 57 | Lugar no ranking de ocorrências: 39\n",
      "Dezena: 2 | Lugar no ranking de ocorrências: 46\n"
     ]
    }
   ],
   "source": [
    "find_digits = [1, 2, 3, 11, 22, 44, 55, 48, 57]\n",
    "for digit, value in digit_sort:\n",
    "    if digit in find_digits:\n",
    "        print(\"Dezena: {} | Lugar no ranking de ocorrências: {}\".format(digit, digit_sort.index((digit, value))))"
   ]
  },
  {
   "cell_type": "code",
   "execution_count": null,
   "metadata": {},
   "outputs": [],
   "source": []
  }
 ],
 "metadata": {
  "kernelspec": {
   "display_name": "Python 3",
   "language": "python",
   "name": "python3"
  },
  "language_info": {
   "codemirror_mode": {
    "name": "ipython",
    "version": 3
   },
   "file_extension": ".py",
   "mimetype": "text/x-python",
   "name": "python",
   "nbconvert_exporter": "python",
   "pygments_lexer": "ipython3",
   "version": "3.6.5"
  }
 },
 "nbformat": 4,
 "nbformat_minor": 2
}
